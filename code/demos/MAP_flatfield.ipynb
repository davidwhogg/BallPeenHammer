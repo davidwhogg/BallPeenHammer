{
 "cells": [
  {
   "cell_type": "markdown",
   "metadata": {},
   "source": [
    "# MAP Flatfield inference #\n",
    "\n",
    "\n",
    "This notebook demonstrates inferring the MAP distribution of flat-field pixel values on a toy but realistic dataset. It is assumed that the PSF model is accurate (enough) for the purposes here.  Much of this notebook follows the 'ML Flatfield Inference' demo.\n",
    "\n",
    "\n",
    "## The 'data' and PSF model ##\n",
    "\n",
    "Import a toy dataset, where the 'detector' is a small 15x15 patch and 'stars' are generated for which approximately 50 are centered on a given pixel."
   ]
  },
  {
   "cell_type": "code",
   "execution_count": 28,
   "metadata": {
    "collapsed": false
   },
   "outputs": [],
   "source": [
    "import sys\n",
    "# simulator.py and psf_model.py live one directory up from here.\n",
    "sys.path.append('../')\n",
    "\n",
    "from simulator import FakeProblem\n",
    "from psf_model import PSFModel\n",
    "\n",
    "seed = 12353\n",
    "\n",
    "# Use Jay Anderson's WFC3 F160W PSF model.\n",
    "psfmodel = PSFModel('../../psfs/anderson.fits')\n",
    "\n",
    "# Made up numbers which are close to what RF has seen in the actual data.\n",
    "ds = 15 # 15 x 15 detector.\n",
    "ps = 5 # 5 x 5 patches for the data.\n",
    "flr, gn = 0.05, 0.01\n",
    "problem = FakeProblem(psfmodel, flat_rng=0.1, flux_range=(50, 500),\n",
    "                      bkg_range=(0, 1.),\n",
    "                      N_mean=50, noise_parms=(flr, gn), detector_side=ds,\n",
    "                      seed=seed)\n"
   ]
  },
  {
   "cell_type": "markdown",
   "metadata": {},
   "source": [
    "Here is what a data patch looks like, along with a noiseless version of it:"
   ]
  },
  {
   "cell_type": "code",
   "execution_count": 29,
   "metadata": {
    "collapsed": false
   },
   "outputs": [
    {
     "data": {
      "image/png": "[encoded data removed]",
      "text/plain": [
       "<matplotlib.figure.Figure at 0x10bb19650>"
      ]
     },
     "metadata": {},
     "output_type": "display_data"
    }
   ],
   "source": [
    "%matplotlib inline\n",
    "import numpy as np\n",
    "import matplotlib.pyplot as pl\n",
    "\n",
    "patch = problem.data[0].reshape(ps, ps)\n",
    "psf = problem.psfs[0].reshape(ps, ps) * problem.fluxes[0] + \\\n",
    "    problem.bkgs[0]\n",
    "\n",
    "pl.gray()\n",
    "pl.subplot(121)\n",
    "pl.imshow(np.log(patch), interpolation='nearest')\n",
    "pl.title('log(data)')\n",
    "pl.subplot(122)\n",
    "pl.imshow(np.log(psf), interpolation='nearest')\n",
    "pl.title('log(noiseless data)')\n",
    "pl.show()\n"
   ]
  },
  {
   "cell_type": "markdown",
   "metadata": {},
   "source": [
    "Here are the true flatfield values:"
   ]
  },
  {
   "cell_type": "code",
   "execution_count": 30,
   "metadata": {
    "collapsed": false
   },
   "outputs": [
    {
     "data": {
      "image/png": "[encoded data removed]",
      "text/plain": [
       "<matplotlib.figure.Figure at 0x108c26950>"
      ]
     },
     "metadata": {},
     "output_type": "display_data"
    }
   ],
   "source": [
    "pl.imshow(problem.flat_field, interpolation='nearest')\n",
    "pl.colorbar()\n",
    "pl.show()"
   ]
  },
  {
   "cell_type": "markdown",
   "metadata": {},
   "source": [
    "Finally, here are the number of patches whos centroids touch a pixel above:"
   ]
  },
  {
   "cell_type": "code",
   "execution_count": 31,
   "metadata": {
    "collapsed": false
   },
   "outputs": [
    {
     "data": {
      "image/png": "[encoded data removed]",
      "text/plain": [
       "<matplotlib.figure.Figure at 0x10ab98050>"
      ]
     },
     "metadata": {},
     "output_type": "display_data"
    },
    {
     "name": "stdout",
     "output_type": "stream",
     "text": [
      "Total number of patches: 11360\n"
     ]
    }
   ],
   "source": [
    "pl.imshow(problem.coverages, interpolation='nearest')\n",
    "pl.colorbar()\n",
    "pl.show()\n",
    "print 'Total number of patches:', problem.coverages.sum()"
   ]
  },
  {
   "cell_type": "markdown",
   "metadata": {},
   "source": [
    "## Model, NLL, and gradients ##\n",
    "\n",
    "We will be evaluating the likelihood of the data given flatfield and individual model parameters, so lets define those.  First, the model for the data is a set of flat field values (one per pixel) and a set of PSFs, fluxes, and backgrounds for the patches.  The model for an individual patch is:\n",
    "\n",
    "$$m_i = f_i * (A_i * P_i + B_i)$$\n",
    "\n",
    "where $m_i$ is the model for the $i$th patch, $A_i$ is the amplitude or flux that is received via the Point Spread Function $P_i$, and $B_i$ is a scalar model for the background flux.  Note $f_i$ is the flatfield for that particular patch, looked up from the values defined over the detector.\n",
    "\n",
    "Ok, with the model in place we need the negative log likelihood:"
   ]
  },
  {
   "cell_type": "code",
   "execution_count": 47,
   "metadata": {
    "collapsed": true
   },
   "outputs": [],
   "source": [
    "# mapper function \n",
    "from utils import FlatMapper\n",
    "\n",
    "def nll(parms, data, psfs, pxl_locs, floor, gain):\n",
    "    \"\"\"\n",
    "    Return the negative log likelihood of the data given a flat field \n",
    "    (first part of parms vector), flux values for the models (next N \n",
    "    values of parms vector), and constant background values (final N\n",
    "    values).\n",
    "    \"\"\"\n",
    "    N, D = psfs.shape\n",
    "    M = ds ** 2 # ds is out of namespace.\n",
    "    flat = parms[:M].reshape(ds, ds) # current flat field model\n",
    "\n",
    "    # this is a lookup function which defines the relationship\n",
    "    # between local and global flats.\n",
    "    mapper = FlatMapper(flat, 5, pxl_locs) \n",
    "    flat_patches = mapper.get_1D_flat_patches()\n",
    "\n",
    "    fluxes = parms[M:(M + N)]\n",
    "    bkgs = parms[(M + N):(M + 2 * N)]\n",
    "\n",
    "    # model for the incoming flux\n",
    "    input_m = fluxes[:, None] * psfs + bkgs[:, None]\n",
    "\n",
    "    # model for the data (sensitivity of flat included.)\n",
    "    m = flat_patches * input_m\n",
    "\n",
    "    # the model for the variance of the noise\n",
    "    v = floor + gain * m\n",
    "\n",
    "    # ignores a log(2pi)\n",
    "    nll = (data - m) ** 2. / v + np.log(v)\n",
    "    return 0.5 * np.sum(nll)"
   ]
  },
  {
   "cell_type": "markdown",
   "metadata": {},
   "source": [
    "For this demo, we are going to want to work with the posterior and for that we need priors.  For now, we are just going to specify a prior on the flatfield:\n",
    "$$\\sum_{jk} (F_{jk} - 1)^2$$\n",
    "This is a vary soft prior (Normal with variance 1), but should be enough to break the degeneracy between the flat mean and the fluxes."
   ]
  },
  {
   "cell_type": "code",
   "execution_count": 97,
   "metadata": {
    "collapsed": true
   },
   "outputs": [],
   "source": [
    "def neg_log_post(parms, data, psfs, pxl_locs, floor, gain):\n",
    "    \"\"\"\n",
    "    Return the negative log posterior probability.\n",
    "    \"\"\"\n",
    "    nll_value = nll(parms, data, psfs, pxl_locs, floor, gain)\n",
    "\n",
    "    N, D = psfs.shape\n",
    "    M = ds ** 2 # ds is out of namespace.\n",
    "    flat = parms[:M].reshape(ds, ds) # current flat field model\n",
    "    \n",
    "    # gaussian prior on flat, ignores a log(2pi)\n",
    "    neg_log_flat_prior = 1.e-1 * (np.sum(flat) - 1) ** 2. \n",
    "    return nll_value + neg_log_flat_prior"
   ]
  },
  {
   "cell_type": "markdown",
   "metadata": {},
   "source": [
    "The model is simple and it is easy to write down the gradient of the parameters.  This will be important to find optima and (perhaps) sample.\n"
   ]
  },
  {
   "cell_type": "code",
   "execution_count": 96,
   "metadata": {
    "collapsed": true
   },
   "outputs": [],
   "source": [
    "def grad_model(flat_patches, fluxes, bkgs, data, psfs, floor, gain):\n",
    "    \"\"\"\n",
    "    Gradient of the model with respect to the NLL.\n",
    "    \"\"\"\n",
    "    input_m = fluxes[:, None] * psfs + bkgs[:, None]\n",
    "    m = flat_patches * input_m\n",
    "    iv = 1. / (floor + gain * m)\n",
    "    dmm = data - m\n",
    "    dmm2 = dmm ** 2.\n",
    "    grad = -2. * dmm * iv\n",
    "    grad -= gn * dmm2 * iv ** 2\n",
    "    grad += gn * iv\n",
    "    return 0.5 * grad\n",
    "\n",
    "def grad_flat_nll(input_m, grad_m, row_ind, col_ind):\n",
    "    \"\"\"\n",
    "    Gradient of the flat model in the NLL term.\n",
    "    \"\"\"\n",
    "    # NLL term\n",
    "    grad = np.zeros((ds, ds))\n",
    "    for i in range(input_m.shape[0]):\n",
    "        g = (input_m[i] * grad_m[i]).reshape(5, 5)\n",
    "        grad[row_ind[i], col_ind[i]] += g    \n",
    "    return grad.ravel()\n",
    "\n",
    "def grad_fluxes(flat_patches, psfs, grad_m):\n",
    "    \"\"\"\n",
    "    Gradient of the fluxes.\n",
    "    \"\"\"\n",
    "    return np.sum(flat_patches * psfs * grad_m, axis=1)\n",
    "\n",
    "def grad_bkgs(flat_patches, grad_m):\n",
    "    \"\"\"\n",
    "    Gradient of the backgrounds\n",
    "    \"\"\"\n",
    "    return np.sum(flat_patches * grad_m, axis=1)\n",
    "\n",
    "def grads_indiv(parms, data, psfs, pxl_locs, floor, gain):\n",
    "    \"\"\"\n",
    "    Return the gradients for flux and bkg params.\n",
    "    \"\"\"\n",
    "    N, D = psfs.shape\n",
    "    M = ds ** 2\n",
    "    flat = parms[:M].reshape(ds, ds)\n",
    "    mapper = FlatMapper(flat, 5, pxl_locs)\n",
    "    flat_patches = mapper.get_1D_flat_patches()\n",
    "    fluxes = parms[M:(M + N)]\n",
    "    bkgs = parms[(M + N):(M + 2 * N)]\n",
    "    input_m = fluxes[:, None] * psfs + bkgs[:, None]\n",
    "    grad_m = grad_model(flat_patches, fluxes, bkgs, data,\n",
    "                        psfs, floor, gain)\n",
    "    fxg = grad_fluxes(flat_patches, psfs, grad_m)\n",
    "    bkg = grad_bkgs(flat_patches, grad_m)\n",
    "    return np.append(fxg, bkg)\n",
    "\n",
    "def grads_all(parms, data, psfs, pxl_locs, floor, gain):\n",
    "    \"\"\"\n",
    "    Return the gradients for all parameters (flat, fluxes, bkgs).\n",
    "    \"\"\"\n",
    "    N, D = psfs.shape\n",
    "    M = ds ** 2\n",
    "    flat = parms[:M].reshape(ds, ds)\n",
    "    mapper = FlatMapper(flat, 5, pxl_locs)\n",
    "    flat_patches = mapper.get_1D_flat_patches()\n",
    "    fluxes = parms[M:(M + N)]\n",
    "    bkgs = parms[(M + N):(M + 2 * N)]\n",
    "    input_m = fluxes[:, None] * psfs + bkgs[:, None]\n",
    "    grad_m = grad_model(flat_patches, fluxes, bkgs, data,\n",
    "                        psfs, floor, gain)\n",
    "    # NLL term\n",
    "    flg = grad_flat_nll(input_m, grad_m, mapper.rowinds, mapper.colinds)\n",
    "\n",
    "    # prior term\n",
    "    flg += 1.e-1 * 2. * (flat.ravel() - 1.)\n",
    "    \n",
    "    fxg = grad_fluxes(flat_patches, psfs, grad_m)\n",
    "    bkg = grad_bkgs(flat_patches, grad_m)\n",
    "    return np.append(np.append(flg, fxg), bkg)\n"
   ]
  },
  {
   "cell_type": "markdown",
   "metadata": {},
   "source": [
    "Lets check these gradients numerically."
   ]
  },
  {
   "cell_type": "code",
   "execution_count": 86,
   "metadata": {
    "collapsed": false
   },
   "outputs": [
    {
     "name": "stdout",
     "output_type": "stream",
     "text": [
      "Flat grad,    36: Anl -1.12e+04 Num -1.12e+04\n",
      "Flat grad,    77: Anl -4.44e+03 Num -4.44e+03\n",
      "Flat grad,    75: Anl -6.38e+02 Num -6.38e+02\n",
      "Flat grad,   185: Anl -1.85e+04 Num -1.85e+04\n",
      "Flat grad,   204: Anl 3.43e+03 Num 3.43e+03\n",
      "Flat grad,   157: Anl -3.31e+03 Num -3.31e+03\n",
      "Flat grad,   155: Anl 1.00e+04 Num 1.00e+04\n",
      "Flat grad,    30: Anl 2.25e+02 Num 2.25e+02\n",
      "Flat grad,     2: Anl 4.81e+01 Num 4.81e+01\n",
      "Flat grad,   218: Anl 1.07e+03 Num 1.07e+03\n",
      "Flat grad,    24: Anl -1.97e+03 Num -1.97e+03\n",
      "Flat grad,    40: Anl -1.26e+04 Num -1.26e+04\n",
      "Flat grad,    72: Anl -1.39e+04 Num -1.39e+04\n",
      "Flat grad,    27: Anl -6.24e+02 Num -6.24e+02\n",
      "Flat grad,    68: Anl -3.02e+03 Num -3.02e+03\n",
      "Flux grad,  2608: Anl 1.53e+00 Num 1.53e+00\n",
      "Flux grad,  6158: Anl -2.31e+00 Num -2.31e+00\n",
      "Flux grad,   371: Anl -5.60e-01 Num -5.60e-01\n",
      "Flux grad,  3458: Anl -2.24e+00 Num -2.24e+00\n",
      "Flux grad,  1576: Anl -3.32e-01 Num -3.32e-01\n",
      "Flux grad,  1643: Anl 4.19e-01 Num 4.19e-01\n",
      "Flux grad,  6251: Anl 7.00e-01 Num 7.00e-01\n",
      "Flux grad,  4014: Anl -3.30e-01 Num -3.30e-01\n",
      "Flux grad,  5532: Anl -1.80e+00 Num -1.80e+00\n",
      "Flux grad,   641: Anl 3.03e-01 Num 3.03e-01\n",
      "Flux grad,   957: Anl -1.47e+00 Num -1.47e+00\n",
      "Flux grad,  4224: Anl -4.42e-02 Num -4.42e-02\n",
      "Flux grad,  4624: Anl 7.14e-01 Num 7.14e-01\n",
      "Flux grad,  5854: Anl -1.75e+00 Num -1.75e+00\n",
      "Flux grad,  2412: Anl 4.61e-02 Num 4.61e-02\n",
      "Bkg  grad,  7171: Anl 1.13e+01 Num 1.13e+01\n",
      "Bkg  grad,  8674: Anl 1.25e+01 Num 1.25e+01\n",
      "Bkg  grad,  8392: Anl 7.69e+00 Num 7.69e+00\n",
      "Bkg  grad,  6607: Anl -1.38e+01 Num -1.38e+01\n",
      "Bkg  grad,  7954: Anl -3.58e+01 Num -3.58e+01\n",
      "Bkg  grad, 12034: Anl 1.49e+01 Num 1.49e+01\n",
      "Bkg  grad,  6765: Anl 5.39e+00 Num 5.39e+00\n",
      "Bkg  grad,  7985: Anl 1.49e+01 Num 1.49e+01\n",
      "Bkg  grad,  7281: Anl -2.82e+01 Num -2.82e+01\n",
      "Bkg  grad,  6990: Anl 7.92e+00 Num 7.92e+00\n",
      "Bkg  grad,  7736: Anl 1.38e+01 Num 1.38e+01\n",
      "Bkg  grad,  9638: Anl -2.83e+01 Num -2.83e+01\n",
      "Bkg  grad, 10451: Anl 1.32e+01 Num 1.32e+01\n",
      "Bkg  grad,  7674: Anl 9.58e+00 Num 9.58e+00\n",
      "Bkg  grad,  6763: Anl -4.80e+01 Num -4.80e+01\n"
     ]
    }
   ],
   "source": [
    "h = 1.e-6\n",
    "N, D = problem.psfs.shape\n",
    "M = ds ** 2\n",
    "flat0 = np.ones((ds, ds))\n",
    "parms = np.append(np.append(flat0, problem.fluxes),\n",
    "                  problem.bkgs)\n",
    "g = grads_all(parms, problem.data, problem.psfs, pxl_locs, flr, gn)\n",
    "\n",
    "# subsample\n",
    "Ng = 15\n",
    "ind = np.append(np.append(np.random.permutation(M)[:Ng],\n",
    "                          (np.random.permutation(N) + M)[:Ng]),\n",
    "               (np.random.permutation(N) + M + N)[:Ng])\n",
    "\n",
    "\n",
    "for i in ind:\n",
    "    if i < M:\n",
    "        ms = 'Flat grad'\n",
    "    elif i > M + N:\n",
    "        ms = 'Bkg  grad'\n",
    "    else:\n",
    "        ms = 'Flux grad'\n",
    "\n",
    "    f = parms.copy()\n",
    "    f[i] += h\n",
    "    fnll = nll(f, problem.data, problem.psfs, pxl_locs, flr, gn)\n",
    "    f[i] -= 2 * h\n",
    "    bnll = nll(f, problem.data, problem.psfs, pxl_locs, flr, gn)\n",
    "    n = (fnll - bnll) / 2. / h\n",
    "    print '%s, %5d: Anl %0.2e Num %0.2e' % (ms, i, g[i], n)\n",
    "    "
   ]
  },
  {
   "cell_type": "markdown",
   "metadata": {},
   "source": [
    "## Timing and MAP ##\n",
    "\n",
    "Below are some of the times it takes to perform relavent calculations to the problem.\n",
    "\n",
    "First, the time it takes to evaluate the negative log likelihood."
   ]
  },
  {
   "cell_type": "code",
   "execution_count": 36,
   "metadata": {
    "collapsed": false
   },
   "outputs": [
    {
     "name": "stdout",
     "output_type": "stream",
     "text": [
      "NLL eval time:\n",
      "100 loops, best of 3: 6.34 ms per loop\n"
     ]
    }
   ],
   "source": [
    "flat0 = np.ones((ds, ds))\n",
    "parms = np.append(np.append(flat0, problem.fluxes),\n",
    "                  problem.bkgs)\n",
    "pxl_locs = (problem.row_centers, problem.col_centers)\n",
    "print 'NLL eval time:'\n",
    "%timeit nll(parms, problem.data, problem.psfs, pxl_locs, flr, gn)\n"
   ]
  },
  {
   "cell_type": "markdown",
   "metadata": {},
   "source": [
    "Ok, now the various gradients:"
   ]
  },
  {
   "cell_type": "code",
   "execution_count": 37,
   "metadata": {
    "collapsed": false
   },
   "outputs": [
    {
     "name": "stdout",
     "output_type": "stream",
     "text": [
      "Gradient eval time for just fluxes and bkgs:\n",
      "100 loops, best of 3: 9.46 ms per loop\n",
      "Gradient eval time for all parms:\n",
      "10 loops, best of 3: 48.1 ms per loop\n"
     ]
    }
   ],
   "source": [
    "print 'Gradient eval time for just fluxes and bkgs:'\n",
    "%timeit grads_indiv(parms, problem.data, problem.psfs, pxl_locs, flr, gn)\n",
    "\n",
    "print 'Gradient eval time for all parms:'\n",
    "%timeit grads_all(parms, problem.data, problem.psfs, pxl_locs, flr, gn)\n"
   ]
  },
  {
   "cell_type": "markdown",
   "metadata": {},
   "source": [
    "Lets see how long it takes to optimize the flat, flux, and background parameters for the patches."
   ]
  },
  {
   "cell_type": "code",
   "execution_count": 98,
   "metadata": {
    "collapsed": false
   },
   "outputs": [
    {
     "name": "stdout",
     "output_type": "stream",
     "text": [
      "Optimized in 74.36 sec\n"
     ]
    }
   ],
   "source": [
    "# realistic starting values\n",
    "f0s = problem.data.sum(1)\n",
    "b0s = np.zeros(f0s.size)\n",
    "parms = np.append(np.append(flat0, f0s), b0s)\n",
    "\n",
    "from scipy.optimize import fmin_l_bfgs_b as bfgs\n",
    "from time import time\n",
    "t0 = time()\n",
    "res = bfgs(neg_log_post, parms, fprime=grads_all,\n",
    "           args=(problem.data, problem.psfs, pxl_locs, flr, gn))\n",
    "print 'Optimized in %0.2f sec' % (time() - t0)"
   ]
  },
  {
   "cell_type": "markdown",
   "metadata": {},
   "source": [
    "## Results ##\n",
    "\n",
    "Lets see how we did."
   ]
  },
  {
   "cell_type": "code",
   "execution_count": 104,
   "metadata": {
    "collapsed": false
   },
   "outputs": [
    {
     "data": {
      "image/png": "[encoded data removed]",
      "text/plain": [
       "<matplotlib.figure.Figure at 0x108c5f850>"
      ]
     },
     "metadata": {},
     "output_type": "display_data"
    }
   ],
   "source": [
    "flat = res[0][:ds ** 2].reshape(ds, ds)\n",
    "#flat /= np.median(flat) # in general this seems to be a good thing to do.\n",
    "tff = problem.flat_field\n",
    "\n",
    "pl.figure(figsize=(15,5))\n",
    "pl.subplot(131)\n",
    "pl.imshow(flat, interpolation='nearest', vmin=tff.min(), vmax=tff.max())\n",
    "pl.title('Inferred flat')\n",
    "pl.colorbar(shrink=0.7)\n",
    "pl.subplot(132)\n",
    "pl.imshow(tff, interpolation='nearest')\n",
    "pl.title('True flat')\n",
    "pl.colorbar(shrink=0.7)\n",
    "pl.subplot(133)\n",
    "diff = flat - problem.flat_field\n",
    "pl.imshow(diff, interpolation='nearest')\n",
    "pl.title('Difference')\n",
    "pl.colorbar(shrink=0.7)\n",
    "pl.show()\n",
    "\n"
   ]
  },
  {
   "cell_type": "markdown",
   "metadata": {},
   "source": [
    "By eye, it seems we have done very well!  Comparing the pattern of the inferred flat (initialized as all ones) to the true flat, there is remarkable agreement.  Notice that in the difference image the results are markedly worse on the 2 pixel border.  This is because we do not allow for patial patches to enter the fit (assuring stellarity is hard for partial patches!).\n",
    "\n",
    "Statistics of the inner 13x13 region:"
   ]
  },
  {
   "cell_type": "code",
   "execution_count": 103,
   "metadata": {
    "collapsed": false
   },
   "outputs": [
    {
     "name": "stdout",
     "output_type": "stream",
     "text": [
      "Root Median Sq. Err 0.00480014741943\n",
      "Root Mean Sq. Err 0.00500251967643\n",
      "STD in Root Sq. Err 0.00237912638226\n"
     ]
    }
   ],
   "source": [
    "err = np.sqrt(diff[2:-2, 2:-2] ** 2)\n",
    "print 'Root Median Sq. Err', np.median(err)\n",
    "print 'Root Mean Sq. Err', np.mean(err)\n",
    "print 'STD in Root Sq. Err', np.std(err)"
   ]
  },
  {
   "cell_type": "markdown",
   "metadata": {},
   "source": [
    "This is pretty good - initially there were errors of about 5% in the flat field, now they are about 0.6%!"
   ]
  },
  {
   "cell_type": "code",
   "execution_count": null,
   "metadata": {
    "collapsed": true
   },
   "outputs": [],
   "source": []
  }
 ],
 "metadata": {
  "kernelspec": {
   "display_name": "Python 2",
   "language": "python",
   "name": "python2"
  },
  "language_info": {
   "codemirror_mode": {
    "name": "ipython",
    "version": 2
   },
   "file_extension": ".py",
   "mimetype": "text/x-python",
   "name": "python",
   "nbconvert_exporter": "python",
   "pygments_lexer": "ipython2",
   "version": "2.7.10"
  }
 },
 "nbformat": 4,
 "nbformat_minor": 0
}
